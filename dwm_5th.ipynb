{
  "nbformat": 4,
  "nbformat_minor": 0,
  "metadata": {
    "colab": {
      "provenance": [],
      "authorship_tag": "ABX9TyO1a9X4jjwoCSKaqI5qlFh4",
      "include_colab_link": true
    },
    "kernelspec": {
      "name": "python3",
      "display_name": "Python 3"
    },
    "language_info": {
      "name": "python"
    }
  },
  "cells": [
    {
      "cell_type": "markdown",
      "metadata": {
        "id": "view-in-github",
        "colab_type": "text"
      },
      "source": [
        "<a href=\"https://colab.research.google.com/github/HarshitGupta1511/AI_ChatBot_NLP/blob/master/dwm_5th.ipynb\" target=\"_parent\"><img src=\"https://colab.research.google.com/assets/colab-badge.svg\" alt=\"Open In Colab\"/></a>"
      ]
    },
    {
      "cell_type": "code",
      "execution_count": 1,
      "metadata": {
        "colab": {
          "base_uri": "https://localhost:8080/"
        },
        "id": "yk7NDiBpNBNO",
        "outputId": "38dd5038-52c1-46a5-d741-aae5ffe75bab"
      },
      "outputs": [
        {
          "output_type": "stream",
          "name": "stdout",
          "text": [
            "milk: 3\n",
            "bread: 4\n",
            "butter: 3\n"
          ]
        }
      ],
      "source": [
        "from collections import Counter\n",
        "\n",
        "# Sample data (transactions)\n",
        "data = [\n",
        "    ['milk', 'bread', 'butter'],\n",
        "    ['bread', 'butter'],\n",
        "    ['milk', 'bread'],\n",
        "    ['milk', 'butter'],\n",
        "    ['bread']\n",
        "]\n",
        "\n",
        "# Flatten the list of lists\n",
        "all_items = [item for transaction in data for item in transaction]\n",
        "\n",
        "# Count frequency\n",
        "item_count = Counter(all_items)\n",
        "\n",
        "# Display frequency\n",
        "for item, count in item_count.items():\n",
        "    print(f\"{item}: {count}\")\n"
      ]
    }
  ]
}