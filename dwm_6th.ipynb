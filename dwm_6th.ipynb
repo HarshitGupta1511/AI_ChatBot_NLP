{
  "nbformat": 4,
  "nbformat_minor": 0,
  "metadata": {
    "colab": {
      "provenance": [],
      "authorship_tag": "ABX9TyPbWdjopwdua9HS42F4a3O7",
      "include_colab_link": true
    },
    "kernelspec": {
      "name": "python3",
      "display_name": "Python 3"
    },
    "language_info": {
      "name": "python"
    }
  },
  "cells": [
    {
      "cell_type": "markdown",
      "metadata": {
        "id": "view-in-github",
        "colab_type": "text"
      },
      "source": [
        "<a href=\"https://colab.research.google.com/github/HarshitGupta1511/AI_ChatBot_NLP/blob/master/dwm_6th.ipynb\" target=\"_parent\"><img src=\"https://colab.research.google.com/assets/colab-badge.svg\" alt=\"Open In Colab\"/></a>"
      ]
    },
    {
      "cell_type": "code",
      "execution_count": 1,
      "metadata": {
        "colab": {
          "base_uri": "https://localhost:8080/"
        },
        "id": "lSE3qLLzP04j",
        "outputId": "1df89c54-19c9-45a0-f11b-433554731b71"
      },
      "outputs": [
        {
          "output_type": "stream",
          "name": "stdout",
          "text": [
            "   support         itemsets\n",
            "0      0.8          (bread)\n",
            "1      0.6         (butter)\n",
            "2      0.6           (milk)\n",
            "3      0.4  (butter, bread)\n",
            "4      0.4    (milk, bread)\n",
            "5      0.4   (butter, milk)\n"
          ]
        }
      ],
      "source": [
        "from mlxtend.frequent_patterns import apriori\n",
        "from mlxtend.frequent_patterns import association_rules\n",
        "import pandas as pd\n",
        "\n",
        "# Sample data\n",
        "dataset = [\n",
        "    ['milk', 'bread', 'butter'],\n",
        "    ['bread', 'butter'],\n",
        "    ['milk', 'bread'],\n",
        "    ['milk', 'butter'],\n",
        "    ['bread']\n",
        "]\n",
        "\n",
        "# One-hot encoding\n",
        "df = pd.DataFrame(dataset)\n",
        "df = df.notna().astype(int).groupby(df.columns.tolist(), sort=False).size().reset_index(name='count')\n",
        "df = df.drop(columns=['count'])\n",
        "\n",
        "# Transaction encoding\n",
        "from mlxtend.preprocessing import TransactionEncoder\n",
        "te = TransactionEncoder()\n",
        "te_ary = te.fit(dataset).transform(dataset)\n",
        "df = pd.DataFrame(te_ary, columns=te.columns_)\n",
        "\n",
        "# Apply Apriori\n",
        "frequent_itemsets = apriori(df, min_support=0.4, use_colnames=True)\n",
        "print(frequent_itemsets)\n"
      ]
    }
  ]
}