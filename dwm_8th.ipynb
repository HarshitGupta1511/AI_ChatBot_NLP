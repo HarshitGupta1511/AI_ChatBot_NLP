{
  "nbformat": 4,
  "nbformat_minor": 0,
  "metadata": {
    "colab": {
      "provenance": [],
      "authorship_tag": "ABX9TyNVMXLsDVFgWuWcvaADqeup",
      "include_colab_link": true
    },
    "kernelspec": {
      "name": "python3",
      "display_name": "Python 3"
    },
    "language_info": {
      "name": "python"
    }
  },
  "cells": [
    {
      "cell_type": "markdown",
      "metadata": {
        "id": "view-in-github",
        "colab_type": "text"
      },
      "source": [
        "<a href=\"https://colab.research.google.com/github/HarshitGupta1511/AI_ChatBot_NLP/blob/master/dwm_8th.ipynb\" target=\"_parent\"><img src=\"https://colab.research.google.com/assets/colab-badge.svg\" alt=\"Open In Colab\"/></a>"
      ]
    },
    {
      "cell_type": "code",
      "execution_count": 1,
      "metadata": {
        "colab": {
          "base_uri": "https://localhost:8080/"
        },
        "id": "pJB8V-IyWS0E",
        "outputId": "edb63f28-1b76-4280-cc5d-fe2020069c02"
      },
      "outputs": [
        {
          "output_type": "stream",
          "name": "stdout",
          "text": [
            "Apriori Frequent Itemsets:\n",
            "    support         itemsets\n",
            "0      0.8          (bread)\n",
            "1      0.6         (butter)\n",
            "2      0.6           (milk)\n",
            "3      0.4  (butter, bread)\n",
            "4      0.4    (milk, bread)\n",
            "5      0.4   (milk, butter)\n",
            "\n",
            "Apriori Rules:\n",
            "   antecedents consequents  support  confidence      lift\n",
            "0    (butter)     (bread)      0.4    0.666667  0.833333\n",
            "1      (milk)     (bread)      0.4    0.666667  0.833333\n",
            "2      (milk)    (butter)      0.4    0.666667  1.111111\n",
            "3    (butter)      (milk)      0.4    0.666667  1.111111\n"
          ]
        }
      ],
      "source": [
        "import pandas as pd\n",
        "from mlxtend.preprocessing import TransactionEncoder\n",
        "from mlxtend.frequent_patterns import apriori, association_rules\n",
        "\n",
        "dataset = [['milk', 'bread', 'butter'],\n",
        "           ['bread', 'butter'],\n",
        "           ['milk', 'bread'],\n",
        "           ['milk', 'butter'],\n",
        "           ['bread']]\n",
        "\n",
        "# One-hot encode\n",
        "te = TransactionEncoder()\n",
        "df = pd.DataFrame(te.fit(dataset).transform(dataset), columns=te.columns_)\n",
        "\n",
        "# Generate frequent itemsets\n",
        "frequent_itemsets = apriori(df, min_support=0.4, use_colnames=True)\n",
        "print(\"Apriori Frequent Itemsets:\\n\", frequent_itemsets)\n",
        "\n",
        "# Generate rules\n",
        "rules = association_rules(frequent_itemsets, metric=\"confidence\", min_threshold=0.6)\n",
        "print(\"\\nApriori Rules:\\n\", rules[['antecedents', 'consequents', 'support', 'confidence', 'lift']])\n"
      ]
    },
    {
      "cell_type": "markdown",
      "source": [
        "ECLAT ALGORITHM"
      ],
      "metadata": {
        "id": "_VVpgkWwWeZl"
      }
    },
    {
      "cell_type": "code",
      "source": [
        "from itertools import combinations\n",
        "\n",
        "data = [\n",
        "    ['milk', 'bread', 'butter'],\n",
        "    ['bread', 'butter'],\n",
        "    ['milk', 'bread'],\n",
        "    ['milk', 'butter'],\n",
        "    ['bread']\n",
        "]\n",
        "\n",
        "# Convert to vertical format\n",
        "vertical = {}\n",
        "for tid, transaction in enumerate(data):\n",
        "    for item in transaction:\n",
        "        vertical.setdefault(item, set()).add(tid)\n",
        "\n",
        "# ECLAT: Generate frequent 2-itemsets\n",
        "min_support = 2\n",
        "frequent = {}\n",
        "for item1, item2 in combinations(vertical.keys(), 2):\n",
        "    common_tids = vertical[item1] & vertical[item2]\n",
        "    if len(common_tids) >= min_support:\n",
        "        frequent[(item1, item2)] = len(common_tids)\n",
        "\n",
        "print(\"ECLAT Frequent Itemsets:\")\n",
        "for itemset, support in frequent.items():\n",
        "    print(f\"{itemset}: {support}\")\n"
      ],
      "metadata": {
        "colab": {
          "base_uri": "https://localhost:8080/"
        },
        "id": "Xc5twyXhWiRp",
        "outputId": "de24d4a0-ed4d-4561-d922-a9db8671ed66"
      },
      "execution_count": 2,
      "outputs": [
        {
          "output_type": "stream",
          "name": "stdout",
          "text": [
            "ECLAT Frequent Itemsets:\n",
            "('milk', 'bread'): 2\n",
            "('milk', 'butter'): 2\n",
            "('bread', 'butter'): 2\n"
          ]
        }
      ]
    },
    {
      "cell_type": "markdown",
      "source": [
        "FP GROWTH"
      ],
      "metadata": {
        "id": "QNTyOH6CWm2E"
      }
    },
    {
      "cell_type": "code",
      "source": [
        "from mlxtend.frequent_patterns import fpgrowth\n",
        "\n",
        "# Reuse the one-hot encoded df from Apriori\n",
        "frequent_itemsets_fp = fpgrowth(df, min_support=0.4, use_colnames=True)\n",
        "print(\"FP-Growth Frequent Itemsets:\\n\", frequent_itemsets_fp)\n",
        "\n",
        "rules_fp = association_rules(frequent_itemsets_fp, metric=\"confidence\", min_threshold=0.6)\n",
        "print(\"\\nFP-Growth Rules:\\n\", rules_fp[['antecedents', 'consequents', 'support', 'confidence', 'lift']])\n"
      ],
      "metadata": {
        "colab": {
          "base_uri": "https://localhost:8080/"
        },
        "id": "JXqsiFWPWoMe",
        "outputId": "dc23b294-b32e-4795-a6a4-ecff33ce1869"
      },
      "execution_count": 3,
      "outputs": [
        {
          "output_type": "stream",
          "name": "stdout",
          "text": [
            "FP-Growth Frequent Itemsets:\n",
            "    support         itemsets\n",
            "0      0.8          (bread)\n",
            "1      0.6           (milk)\n",
            "2      0.6         (butter)\n",
            "3      0.4    (milk, bread)\n",
            "4      0.4   (milk, butter)\n",
            "5      0.4  (butter, bread)\n",
            "\n",
            "FP-Growth Rules:\n",
            "   antecedents consequents  support  confidence      lift\n",
            "0      (milk)     (bread)      0.4    0.666667  0.833333\n",
            "1      (milk)    (butter)      0.4    0.666667  1.111111\n",
            "2    (butter)      (milk)      0.4    0.666667  1.111111\n",
            "3    (butter)     (bread)      0.4    0.666667  0.833333\n"
          ]
        }
      ]
    },
    {
      "cell_type": "markdown",
      "source": [
        "FP TREE"
      ],
      "metadata": {
        "id": "eWoMTnneWrIa"
      }
    },
    {
      "cell_type": "code",
      "source": [
        "class FPTreeNode:\n",
        "    def __init__(self, item, count):\n",
        "        self.item = item\n",
        "        self.count = count\n",
        "        self.children = {}\n",
        "\n",
        "    def display(self, ind=1):\n",
        "        print('  ' * ind, self.item, ' ', self.count)\n",
        "        for child in self.children.values():\n",
        "            child.display(ind + 1)\n",
        "\n",
        "# Simple FP-Tree construction (not full FP-Growth logic)\n",
        "root = FPTreeNode(\"Null\", 1)\n",
        "\n",
        "transactions = [['milk', 'bread'],\n",
        "                ['bread', 'butter'],\n",
        "                ['milk', 'bread', 'butter'],\n",
        "                ['milk', 'butter']]\n",
        "\n",
        "for transaction in transactions:\n",
        "    current = root\n",
        "    for item in transaction:\n",
        "        if item in current.children:\n",
        "            current.children[item].count += 1\n",
        "        else:\n",
        "            current.children[item] = FPTreeNode(item, 1)\n",
        "        current = current.children[item]\n",
        "\n",
        "print(\"FP-Tree:\")\n",
        "root.display()\n"
      ],
      "metadata": {
        "colab": {
          "base_uri": "https://localhost:8080/"
        },
        "id": "iPHEaF7EWtl9",
        "outputId": "eb7e9ec3-6ab4-48d5-e686-f7ee4fc84f82"
      },
      "execution_count": 4,
      "outputs": [
        {
          "output_type": "stream",
          "name": "stdout",
          "text": [
            "FP-Tree:\n",
            "   Null   1\n",
            "     milk   3\n",
            "       bread   2\n",
            "         butter   1\n",
            "       butter   1\n",
            "     bread   1\n",
            "       butter   1\n"
          ]
        }
      ]
    }
  ]
}